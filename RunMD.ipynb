{
 "metadata": {
  "name": ""
 },
 "nbformat": 3,
 "nbformat_minor": 0,
 "worksheets": [
  {
   "cells": [
    {
     "cell_type": "code",
     "collapsed": false,
     "input": [
      "from IPythonTweaks import *"
     ],
     "language": "python",
     "metadata": {},
     "outputs": [],
     "prompt_number": 1
    },
    {
     "cell_type": "heading",
     "level": 2,
     "metadata": {},
     "source": [
      "Running long MD"
     ]
    },
    {
     "cell_type": "code",
     "collapsed": false,
     "input": [
      "file=open(\"md.mdp\",\"w\")\n",
      "file.write(\"\"\"\n",
      "title\t\t= OPLS Lysozyme MD \n",
      "; Run parameters\n",
      "integrator\t= md\t\t; leap-frog integrator\n",
      "nsteps\t\t= 500000\t; 2 * 500000 = 1000 ps, 1 ns\n",
      "dt\t\t= 0.002\t\t; 2 fs\n",
      "; Output control\n",
      "nstxout\t\t= 1000\t\t; save coordinates every 2 ps\n",
      "nstvout\t\t= 1000\t\t; save velocities every 2 ps\n",
      "nstxtcout\t= 1000\t\t; xtc compressed trajectory output every 2 ps\n",
      "nstenergy\t= 1000\t\t; save energies every 2 ps\n",
      "nstlog\t\t= 1000\t\t; update log file every 2 ps\n",
      "; Bond parameters\n",
      "continuation\t= yes\t\t; Restarting after NPT \n",
      "constraint_algorithm = lincs\t; holonomic constraints \n",
      "constraints\t= all-bonds\t; all bonds (even heavy atom-H bonds) constrained\n",
      "lincs_iter\t= 1\t\t; accuracy of LINCS\n",
      "lincs_order\t= 4\t\t; also related to accuracy\n",
      "; Neighborsearching\n",
      "ns_type\t\t= grid\t\t; search neighboring grid cells\n",
      "nstlist\t\t= 5\t\t; 10 fs\n",
      "rlist\t\t= 1.0\t\t; short-range neighborlist cutoff (in nm)\n",
      "rcoulomb\t= 1.0\t\t; short-range electrostatic cutoff (in nm)\n",
      "rvdw\t\t= 1.0\t\t; short-range van der Waals cutoff (in nm)\n",
      "; Electrostatics\n",
      "coulombtype\t= PME\t\t; Particle Mesh Ewald for long-range electrostatics\n",
      "pme_order\t= 4\t\t; cubic interpolation\n",
      "fourierspacing\t= 0.16\t\t; grid spacing for FFT\n",
      "; Temperature coupling is on\n",
      "tcoupl\t\t= V-rescale\t; modified Berendsen thermostat\n",
      "tc-grps\t\t= Protein Non-Protein\t; two coupling groups - more accurate\n",
      "tau_t\t\t= 0.1\t0.1\t; time constant, in ps\n",
      "ref_t\t\t= 300 \t300\t; reference temperature, one for each group, in K\n",
      "; Pressure coupling is on\n",
      "pcoupl\t\t= Parrinello-Rahman\t; Pressure coupling on in NPT\n",
      "pcoupltype\t= isotropic\t; uniform scaling of box vectors\n",
      "tau_p\t\t= 2.0\t\t; time constant, in ps\n",
      "ref_p\t\t= 1.0\t\t; reference pressure, in bar\n",
      "compressibility = 4.5e-5\t; isothermal compressibility of water, bar^-1\n",
      "; Periodic boundary conditions\n",
      "pbc\t\t= xyz\t\t; 3-D PBC\n",
      "; Dispersion correction\n",
      "DispCorr\t= EnerPres\t; account for cut-off vdW scheme\n",
      "; Velocity generation\n",
      "gen_vel\t\t= no\t\t; Velocity generation is off \n",
      "\"\"\")\n",
      "file.close()"
     ],
     "language": "python",
     "metadata": {},
     "outputs": [],
     "prompt_number": 2
    },
    {
     "cell_type": "code",
     "collapsed": false,
     "input": [
      "out=!{\"grompp -f md.mdp -c npt.gro -p topol.top -o md.tpr -maxwarn 4\"}"
     ],
     "language": "python",
     "metadata": {},
     "outputs": [],
     "prompt_number": 3
    },
    {
     "cell_type": "code",
     "collapsed": false,
     "input": [
      "!g_mdrun -v -deffnm md"
     ],
     "language": "python",
     "metadata": {},
     "outputs": []
    }
   ],
   "metadata": {}
  }
 ]
}